{
  "metadata": {
    "language_info": {
      "codemirror_mode": {
        "name": "python",
        "version": 3
      },
      "file_extension": ".py",
      "mimetype": "text/x-python",
      "name": "python",
      "nbconvert_exporter": "python",
      "pygments_lexer": "ipython3",
      "version": "3.8"
    },
    "kernelspec": {
      "name": "python",
      "display_name": "Python (Pyodide)",
      "language": "python"
    }
  },
  "nbformat_minor": 4,
  "nbformat": 4,
  "cells": [
    {
      "cell_type": "code",
      "source": "import math\nfrom sympy.plotting import plot\nfrom sympy import *\nfrom sympy import Symbol",
      "metadata": {
        "trusted": true
      },
      "execution_count": 4,
      "outputs": []
    },
    {
      "cell_type": "code",
      "source": "x = Symbol('x')\nfx = -5*x**2 + 10*x - 150\nfx",
      "metadata": {
        "trusted": true
      },
      "execution_count": 5,
      "outputs": [
        {
          "execution_count": 5,
          "output_type": "execute_result",
          "data": {
            "text/plain": "-5*x**2 + 10*x - 150",
            "text/latex": "$\\displaystyle - 5 x^{2} + 10 x - 150$"
          },
          "metadata": {}
        }
      ]
    },
    {
      "cell_type": "code",
      "source": "p = plot(fx,(x,-20, 15))",
      "metadata": {
        "trusted": true
      },
      "execution_count": 7,
      "outputs": [
        {
          "name": "stdout",
          "text": "   -100 |                              .....                    \n        |                         .....     ......              \n        |                      ...                ...           \n        |                    ..                      ..         \n        |                  ..                          ..       \n        |                ..                              ..     \n        |               /                                  \\    \n        |             ..                                    ..  \n        |            /                                        \\ \n        |           /                                          \\\n  -1250 |---------..--------------------------------------------\n        |        /                                              \n        |       /                                               \n        |      /                                                \n        |     /                                                 \n        |    /                                                  \n        |   /                                                   \n        |  /                                                    \n        | .                                                     \n        |                                                       \n  -2400 |_______________________________________________________\n         -20                        -2.5                       15\n",
          "output_type": "stream"
        }
      ]
    },
    {
      "cell_type": "code",
      "source": "sq_1,  sq_2 = solve(fx)\nprint(sq_1,sq_2)",
      "metadata": {
        "trusted": true
      },
      "execution_count": 9,
      "outputs": [
        {
          "name": "stdout",
          "text": "1 - sqrt(29)*I 1 + sqrt(29)*I\n",
          "output_type": "stream"
        }
      ]
    },
    {
      "cell_type": "code",
      "source": "past = diff(fx)\nprint(past)",
      "metadata": {
        "trusted": true
      },
      "execution_count": 11,
      "outputs": [
        {
          "name": "stdout",
          "text": "10 - 10*x\n",
          "output_type": "stream"
        }
      ]
    },
    {
      "cell_type": "code",
      "source": "apx = solve(diff(fx))\nprint(apx)",
      "metadata": {
        "trusted": true
      },
      "execution_count": 14,
      "outputs": [
        {
          "name": "stdout",
          "text": "[1]\n",
          "output_type": "stream"
        }
      ]
    },
    {
      "cell_type": "code",
      "source": "solve(diff(fx) > 0)",
      "metadata": {
        "trusted": true
      },
      "execution_count": 17,
      "outputs": [
        {
          "execution_count": 17,
          "output_type": "execute_result",
          "data": {
            "text/plain": "(-oo < x) & (x < 1)",
            "text/latex": "$\\displaystyle -\\infty < x \\wedge x < 1$"
          },
          "metadata": {}
        }
      ]
    },
    {
      "cell_type": "code",
      "source": "solve(diff(fx)<0)",
      "metadata": {
        "trusted": true
      },
      "execution_count": 18,
      "outputs": [
        {
          "execution_count": 18,
          "output_type": "execute_result",
          "data": {
            "text/plain": "(1 < x) & (x < oo)",
            "text/latex": "$\\displaystyle 1 < x \\wedge x < \\infty$"
          },
          "metadata": {}
        }
      ]
    }
  ]
}